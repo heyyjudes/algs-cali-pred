{
 "cells": [
  {
   "cell_type": "markdown",
   "id": "bff3e233-9d91-40ed-a76e-41dff0e61863",
   "metadata": {},
   "source": [
    "## Ski Rental with Movie Lens\n",
    "This notebook trains predictors for whether a user will watch more than b movies in the next month. \n",
    "We use these raw and calibrated predictors to compare the results of the ski-rental algorithms we propose in our paper."
   ]
  },
  {
   "cell_type": "code",
   "execution_count": 19,
   "id": "d7fd96b7-680e-4c90-8305-e11a6bf7ba5f",
   "metadata": {},
   "outputs": [
    {
     "name": "stdout",
     "output_type": "stream",
     "text": [
      "The autoreload extension is already loaded. To reload it, use:\n",
      "  %reload_ext autoreload\n"
     ]
    }
   ],
   "source": [
    "import pandas as pd\n",
    "import numpy as np\n",
    "import matplotlib.pyplot as plt\n",
    "import seaborn as sns\n",
    "sns.set_theme() \n",
    "# features\n",
    "from sklearn.feature_extraction import DictVectorizer\n",
    "from sklearn.model_selection import train_test_split\n",
    "from sklearn.pipeline import Pipeline\n",
    "from sklearn.preprocessing import StandardScaler\n",
    "\n",
    "# models \n",
    "from sklearn.ensemble import RandomForestClassifier\n",
    "from sklearn.linear_model import LogisticRegression\n",
    "from sklearn.neural_network import MLPClassifier\n",
    "from sklearn.neighbors import KNeighborsClassifier\n",
    "from sklearn.ensemble import GradientBoostingClassifier, RandomForestRegressor\n",
    "from sklearn.linear_model import ElasticNet, SGDRegressor, BayesianRidge, LinearRegression\n",
    "from sklearn.svm import SVR\n",
    "from xgboost.sklearn import XGBRegressor\n",
    "from sklearn.kernel_ridge import KernelRidge\n",
    "\n",
    "#calibration library\n",
    "from crepes import WrapRegressor\n",
    "\n",
    "# metrics\n",
    "from sklearn.metrics import roc_auc_score\n",
    "from sklearn import tree\n",
    "\n",
    "import models as md\n",
    "import utils as ut\n",
    "import calibrator as cal\n",
    "import skirental as sr\n",
    "\n",
    "%load_ext autoreload \n",
    "%autoreload 2\n"
   ]
  },
  {
   "cell_type": "markdown",
   "id": "b93f83af-5a7b-4cd4-81c5-6b90a103ae94",
   "metadata": {},
   "source": [
    "### Section 0: Loading Data"
   ]
  },
  {
   "cell_type": "code",
   "execution_count": 2,
   "id": "789bc52f-aa0d-4f39-bed7-1912f69af649",
   "metadata": {},
   "outputs": [],
   "source": [
    "movie_df = pd.read_csv('clean_data/movie_lens100k_monthly.csv')"
   ]
  },
  {
   "cell_type": "code",
   "execution_count": 12,
   "id": "872049bb-6626-4f08-80c0-ca5da0c28994",
   "metadata": {},
   "outputs": [],
   "source": [
    "b = 5\n",
    "y = movie_df['movies_this_month'].values\n",
    "# Transform both feature sets\n",
    "X_clf = movie_df[['age', 'gender', 'occupation', 'zip', 'movies_watched']]\n",
    "X_reg = movie_df[['age', 'gender', 'movies_watched']]\n",
    "\n",
    "# Create separate DictVectorizers for each feature set\n",
    "vec_clf = DictVectorizer()\n",
    "vec_reg = DictVectorizer()\n",
    "\n",
    "X_post_clf = vec_clf.fit_transform(X_clf.to_dict('records')).toarray()\n",
    "X_post_reg = vec_reg.fit_transform(X_reg.to_dict('records')).toarray()"
   ]
  },
  {
   "cell_type": "markdown",
   "id": "c69df44e-f5b1-41bd-87ff-8dfedcfbbffa",
   "metadata": {},
   "source": [
    "### Section 1: Training & Calibrating Predictors"
   ]
  },
  {
   "cell_type": "code",
   "execution_count": 6,
   "id": "d72ff8be-a9ca-47ec-a18c-393883af1d87",
   "metadata": {},
   "outputs": [
    {
     "name": "stdout",
     "output_type": "stream",
     "text": [
      "size train: 346, valid: 87 test: 109 \n",
      "0.06940344173714974\n"
     ]
    }
   ],
   "source": [
    "# training calibrated regression model: \n",
    "i=1\n",
    "X_train, X_test, y_train, y_test = train_test_split(\n",
    "    X_post_reg, y, test_size=0.20, random_state=i)\n",
    "\n",
    "X_train, X_valid, y_train, y_valid = train_test_split(\n",
    "        X_train, y_train, test_size=0.20, random_state=i)\n",
    "\n",
    "print(f\"size train: {len(X_train)}, valid: {len(X_valid)} test: {len(X_test)} \")\n",
    "model = Pipeline(\n",
    "            [\n",
    "                (\"scalar\", StandardScaler()),\n",
    "                #(\"LR\", LinearRegression()), #0.002\n",
    "                #(\"BR\", BayesianRidge()) #0.06\n",
    "                #(\"xgb\", XGBRegressor()), # -0.11\n",
    "                #(\"kernel\", KernelRidge()), #-0.16\n",
    "                #(\"SVR\", SVR()), # -0.08 \n",
    "                (\"sgd\", SGDRegressor()) # 0.07\n",
    "                #(\"en\", ElasticNet()) 0.05\n",
    "                #(\"RFR\", RandomForestRegressor()), 0.03\n",
    "            ]\n",
    "        )\n",
    "\n",
    "# regular pred: \n",
    "model.fit(X_train, y_train)\n",
    "print(model.score(X_test, y_test))\n",
    "rf = WrapRegressor(model)\n",
    "rf.fit(X_train, y_train)\n",
    "rf.calibrate(X_valid, y_valid)\n",
    "conf_interval = rf.predict_int(X_test, confidence=0.7)"
   ]
  },
  {
   "cell_type": "code",
   "execution_count": 8,
   "id": "abd84649-8afc-46b9-99a6-d23c3cd0a92d",
   "metadata": {},
   "outputs": [
    {
     "name": "stdout",
     "output_type": "stream",
     "text": [
      "running model search\n"
     ]
    }
   ],
   "source": [
    "clf_list = ['LR', 'GB', 'XGB', 'KNN', 'RF']\n",
    "training_results = [] \n",
    "num_runs = 1\n",
    "binary_clfs = {} \n",
    "calibrators = {} \n",
    "bins = 10 \n",
    "for i in range(num_runs): \n",
    "        X_train, X_test, y_train, y_test = train_test_split(\n",
    "            X_post_clf, y>b, test_size=0.20, random_state=i)\n",
    "\n",
    "        X_train, X_valid, y_train, y_valid = train_test_split(\n",
    "                X_train, y_train, test_size=0.20, random_state=i)\n",
    "\n",
    "        for name in clf_list: \n",
    "            curr_clf = md.model_choice(name, X_train, y_train)\n",
    "            curr_clf.fit(X_train, y_train)\n",
    "            probs = curr_clf.predict_proba(X_test)[:, 1]\n",
    "            _, _, ece_l1, ece_l2 = ut.expected_calibration_error(prob_true=np.asarray(y_test), \n",
    "                                                                 prob_pred=np.asarray(probs), \n",
    "                                                                 num_bins=bins)\n",
    "            training_results.append({\n",
    "                'clf': name, \n",
    "                'run': i, \n",
    "                'b': b, \n",
    "                'ece_l1': ece_l1, \n",
    "                'ece_l2': ece_l2, \n",
    "                'accuracy': curr_clf.score(X_test, y_test), \n",
    "                'auc': roc_auc_score(y_test, probs),\n",
    "                'calibrated': False\n",
    "            })\n",
    "            binary_clfs[name] = curr_clf\n",
    "\n",
    "            calibrator = cal.BinningCalibrator(bins=bins)\n",
    "            calibrator.calibrate(curr_clf.predict_proba(X_valid)[:, 1], y_valid)\n",
    "            y_cal_probs = calibrator.transform(probs)\n",
    "            _, _, ece_l1, ece_l2 = ut.expected_calibration_error(prob_true=np.asarray(y_test),\n",
    "                                                                 prob_pred=np.asarray(y_cal_probs),\n",
    "                                                                 num_bins=bins)\n",
    "            training_results.append({\n",
    "                'clf': name, \n",
    "                'run': i, \n",
    "                'b': b, \n",
    "                'ece_l1': ece_l1, \n",
    "                'ece_l2': ece_l2, \n",
    "                'accuracy': ((y_cal_probs > 0.5) ==  y_test).mean(), \n",
    "                'auc': roc_auc_score(y_test, y_cal_probs),\n",
    "                'calibrated': True\n",
    "            })\n",
    "            calibrators[name] = calibrator"
   ]
  },
  {
   "cell_type": "code",
   "execution_count": 9,
   "id": "f1afecdf-bad4-4f08-8c0b-f42f2a1cf70f",
   "metadata": {},
   "outputs": [],
   "source": [
    "training_results_df = pd.DataFrame(training_results)"
   ]
  },
  {
   "cell_type": "code",
   "execution_count": 10,
   "id": "45afebf4-f774-4030-b4c6-d1b8ada54323",
   "metadata": {},
   "outputs": [
    {
     "data": {
      "image/png": "[encoded data removed]",
      "text/plain": [
       "<Figure size 1500x1200 with 4 Axes>"
      ]
     },
     "metadata": {},
     "output_type": "display_data"
    }
   ],
   "source": [
    "fig, axes = plt.subplots(2, 2, figsize=(15, 12))\n",
    "metrics = ['ece_l1', 'ece_l2', 'accuracy', 'auc']\n",
    "titles = ['ECE (L1)', 'ECE (L2)', 'Accuracy', 'AUC']\n",
    "axes = axes.ravel()\n",
    "\n",
    "# Create subplots\n",
    "for idx, (metric, title) in enumerate(zip(metrics, titles)):\n",
    "    sns.barplot(\n",
    "        data=training_results_df,\n",
    "        x='clf',\n",
    "        y=metric,\n",
    "        hue='calibrated',\n",
    "        ax=axes[idx],\n",
    "    )\n",
    "    axes[idx].set_title(title)\n",
    "    axes[idx].set_xlabel('Classifier')\n",
    "    axes[idx].set_ylabel(title)\n",
    "    # Rotate x-axis labels for better readability\n",
    "    axes[idx].tick_params(axis='x', rotation=45)\n",
    "    # Move legend to a better position\n",
    "    axes[idx].legend(title='')\n",
    "\n",
    "# Adjust layout\n",
    "plt.tight_layout()\n",
    "plt.show()"
   ]
  },
  {
   "cell_type": "markdown",
   "id": "0841676c-9397-498b-8da0-e219c0404f16",
   "metadata": {},
   "source": [
    "### Section 2: Comparing Ski Rental Algorithms"
   ]
  },
  {
   "cell_type": "code",
   "execution_count": 22,
   "id": "f127cfe7-4506-47c1-9090-1e3b08da2125",
   "metadata": {},
   "outputs": [
    {
     "name": "stdout",
     "output_type": "stream",
     "text": [
      "best regressor score: 0.010620961710516408\n",
      "LR 0.5021208907741251\n",
      "GB 0.5490455991516436\n",
      "XGB 0.5206786850477201\n",
      "running model search\n",
      "KNN 0.5713149522799577\n",
      "RF 0.5227995758218451\n",
      "best classifier KNN score: 0.5713149522799577\n",
      "running model search\n"
     ]
    }
   ],
   "source": [
    "results_df = pd.DataFrame()\n",
    "bins=20\n",
    "b=10\n",
    "num_runs = 1\n",
    "for i in range(num_runs): \n",
    "        i=1\n",
    "        indices = np.arange(len(movie_df))\n",
    "\n",
    "        # First split: separate out test set (20% of data)\n",
    "        idx_temp, idx_test = train_test_split(\n",
    "            indices, test_size=0.20, random_state=i\n",
    "        )\n",
    "\n",
    "        # Second split: split remaining data into train and validation (0.25 = 20% of original 80%)\n",
    "        idx_train, idx_valid = train_test_split(\n",
    "            idx_temp, test_size=0.20, random_state=i\n",
    "        )\n",
    "        \n",
    "        # regression \n",
    "        X_train = X_post_reg[idx_train]\n",
    "        X_valid = X_post_reg[idx_valid]\n",
    "        X_test = X_post_reg[idx_test]\n",
    "        \n",
    "        y_train = y[idx_train]\n",
    "        y_valid = y[idx_valid]\n",
    "        y_test = y[idx_test]\n",
    "                        \n",
    "        reg_model_name = md.get_best_regressor(X_train,\n",
    "                                               y_train,\n",
    "                                               X_valid,\n",
    "                                               y_valid)\n",
    "        \n",
    "        model = Pipeline(\n",
    "            [\n",
    "                (\"scalar\", StandardScaler()),\n",
    "                (reg_model_name, md.reg_dict[reg_model_name]())\n",
    "\n",
    "            ]\n",
    "        )\n",
    "        rf = WrapRegressor(model)\n",
    "        rf.fit(X_train, y_train)\n",
    "        rf.calibrate(X_valid, y_valid)\n",
    "        conf = 0.7\n",
    "        results_df['delta'] = 1 - conf \n",
    "        conf_interval = rf.predict_int(X_test, confidence=conf)\n",
    "        results_df['reg_sgd_val'] = model.predict(X_test)\n",
    "        results_df['reg_sgd_conf_low'] = np.maximum(conf_interval[:, 0], 1)\n",
    "        results_df['reg_sgd_conf_high'] = np.minimum(conf_interval[:, 1], 500)\n",
    "        results_df['y'] = y_test \n",
    "\n",
    "        \n",
    "        # classification: \n",
    "        X_train = X_post_clf[idx_train]\n",
    "        X_valid = X_post_clf[idx_valid]\n",
    "        X_test = X_post_clf[idx_test]\n",
    "        \n",
    "        y_train = y_train > b\n",
    "        y_valid = y_valid > b\n",
    "        y_test = y_test > b\n",
    "        results_df['y_bin'] = y_test\n",
    "        \n",
    "        clf_model_name = md.get_best_classifier(X_train,\n",
    "                                               y_train,\n",
    "                                               X_valid,\n",
    "                                               y_valid)\n",
    "        curr_clf = md.model_choice(clf_model_name, X_train, y_train)\n",
    "        curr_clf.fit(X_train, y_train)\n",
    "        eps = 1 - curr_clf.score(X_train, y_train) \n",
    "        results_df['eps'] = eps\n",
    "        \n",
    "        probs = curr_clf.predict_proba(X_test)[:, 1]\n",
    "        calibrator = cal.BinningCalibrator(bins=bins)\n",
    "        calibrator.calibrate(curr_clf.predict_proba(X_valid)[:, 1], y_valid)\n",
    "        y_cal_probs = calibrator.transform(probs)\n",
    "        \n",
    "        train_probs = calibrator.transform(curr_clf.predict_proba(X_train)[:, 1])\n",
    "        \n",
    "        #TODO: is this train set or test set USING TRAIN\n",
    "        _, _, alpha, _ = ut.expected_calibration_error(prob_true=np.asarray(y_train),\n",
    "                                                     prob_pred=np.asarray(train_probs),\n",
    "                                                     num_bins=bins)\n",
    "        \n",
    "        results_df['clf_pred'] =  curr_clf.predict(X_test)\n",
    "        results_df['clf_prob'] = y_cal_probs \n",
    "        results_df['alpha'] = alpha\n",
    "        results_df['b'] = b"
   ]
  },
  {
   "cell_type": "code",
   "execution_count": 23,
   "id": "c2d1a87f-d2b1-4816-ad27-5aa801c8aa32",
   "metadata": {},
   "outputs": [],
   "source": [
    "results_df['pip_day'] = results_df.apply(\n",
    "    lambda row: sr.pip_alg(\n",
    "        u=row['reg_sgd_conf_high'],\n",
    "        l=row['reg_sgd_conf_high'], \n",
    "        delta=row['delta'],\n",
    "        b=row['b']\n",
    "    ), \n",
    "    axis=1\n",
    ")\n",
    "\n",
    "results_df['naive_day'] = results_df.apply(\n",
    "    lambda row: sr.regular_ski_rental(pred=row['clf_pred'],\n",
    "                                   eps=row['eps'],\n",
    "                                   b=row['b'], \n",
    "    ), \n",
    "    axis=1\n",
    ")\n",
    "\n",
    "results_df['cal_day'] = results_df.apply(\n",
    "    lambda row: sr.cal_ski_rental(pred=row['clf_prob'],\n",
    "                                   alpha=row['alpha'],\n",
    "                                   b=row['b'], \n",
    "    ), \n",
    "    axis=1\n",
    ")\n",
    "results_df['pip_CR'] = results_df.apply(\n",
    "    lambda row: get_CR(\n",
    "        buy=row['pip_day'],\n",
    "        y=row['y'],\n",
    "        b=row['b']\n",
    "    ), \n",
    "    axis=1\n",
    ")\n",
    "\n",
    "results_df['naive_CR'] = results_df.apply(\n",
    "    lambda row: get_CR(\n",
    "        buy=row['naive_day'],\n",
    "        y=row['y'],\n",
    "        b=row['b']\n",
    "    ), \n",
    "    axis=1\n",
    ")\n",
    "\n",
    "results_df['cal_CR'] = results_df.apply(\n",
    "    lambda row: get_CR(\n",
    "        buy=row['cal_day'],\n",
    "        y=row['y'],\n",
    "        b=row['b']\n",
    "    ), \n",
    "    axis=1\n",
    ")"
   ]
  },
  {
   "cell_type": "code",
   "execution_count": 24,
   "id": "be9e6054-757e-4e5e-9514-199030ff1797",
   "metadata": {},
   "outputs": [
    {
     "data": {
      "text/plain": [
       "cal_CR      1.431193\n",
       "pip_CR      1.431193\n",
       "naive_CR    1.444667\n",
       "dtype: float64"
      ]
     },
     "execution_count": 24,
     "metadata": {},
     "output_type": "execute_result"
    }
   ],
   "source": [
    "results_df[['cal_CR', 'pip_CR', 'naive_CR']].mean()"
   ]
  },
  {
   "cell_type": "code",
   "execution_count": 32,
   "id": "8037ffbf-8da3-4c6b-aa1c-be00a2175c85",
   "metadata": {},
   "outputs": [
    {
     "data": {
      "text/plain": [
       "clf_pred  y_bin  naive_day  naive_CR\n",
       "True      True   5.765153   1.576515    35\n",
       "          False  5.765153   1.000000    27\n",
       "False     False  10.000000  1.000000    22\n",
       "          True   10.000000  2.000000    12\n",
       "True      False  5.765153   2.627526     6\n",
       "                            1.751684     2\n",
       "                            1.970644     2\n",
       "                            2.252165     2\n",
       "                            1.576515     1\n",
       "Name: count, dtype: int64"
      ]
     },
     "execution_count": 32,
     "metadata": {},
     "output_type": "execute_result"
    }
   ],
   "source": [
    "# validate naive algorithm\n",
    "results_df[['clf_pred',  'y_bin', 'naive_day', 'naive_CR']].value_counts()"
   ]
  },
  {
   "cell_type": "code",
   "execution_count": 37,
   "id": "67db1568-dcdf-4be6-ac95-298b33ef91ca",
   "metadata": {},
   "outputs": [
    {
     "name": "stdout",
     "output_type": "stream",
     "text": [
      "alpha alpha\n",
      "0.113006    109\n",
      "Name: count, dtype: int64\n"
     ]
    },
    {
     "data": {
      "text/plain": [
       "clf_pred  clf_prob  y_bin  cal_CR  cal_day\n",
       "False     0.00      False  1.0     10          9\n",
       "                    True   2.0     10          5\n",
       "          0.40      False  1.0     10         13\n",
       "                    True   2.0     10          7\n",
       "True      0.25      False  1.0     10          3\n",
       "                    True   2.0     10          6\n",
       "          0.50      False  1.0     10         15\n",
       "                    True   2.0     10         14\n",
       "          0.60      False  1.0     10         22\n",
       "                    True   2.0     10         15\n",
       "Name: y, dtype: int64"
      ]
     },
     "execution_count": 37,
     "metadata": {},
     "output_type": "execute_result"
    }
   ],
   "source": [
    "print(\"alpha\", results_df['alpha'].value_counts())\n",
    "results_df.groupby(['clf_pred', 'clf_prob', 'y_bin', 'cal_CR', 'cal_day'])['y'].count()"
   ]
  },
  {
   "cell_type": "code",
   "execution_count": 40,
   "id": "a5ba0975-535c-4bd5-b643-41005a9cb832",
   "metadata": {},
   "outputs": [
    {
     "name": "stdout",
     "output_type": "stream",
     "text": [
      "delta Series([], Name: count, dtype: int64)\n"
     ]
    },
    {
     "data": {
      "text/plain": [
       "clf_pred  y_bin  pip_CR  pip_day\n",
       "False     False  1.0     10         22\n",
       "          True   2.0     10         12\n",
       "True      False  1.0     10         40\n",
       "          True   2.0     10         35\n",
       "Name: y, dtype: int64"
      ]
     },
     "execution_count": 40,
     "metadata": {},
     "output_type": "execute_result"
    }
   ],
   "source": [
    "print(\"delta\", results_df['delta'].value_counts())\n",
    "results_df.groupby(['clf_pred', 'y_bin', 'pip_CR', 'pip_day'])['y'].count()"
   ]
  }
 ],
 "metadata": {
  "kernelspec": {
   "display_name": "Python 3 (ipykernel)",
   "language": "python",
   "name": "python3"
  },
  "language_info": {
   "codemirror_mode": {
    "name": "ipython",
    "version": 3
   },
   "file_extension": ".py",
   "mimetype": "text/x-python",
   "name": "python",
   "nbconvert_exporter": "python",
   "pygments_lexer": "ipython3",
   "version": "3.13.1"
  }
 },
 "nbformat": 4,
 "nbformat_minor": 5
}
